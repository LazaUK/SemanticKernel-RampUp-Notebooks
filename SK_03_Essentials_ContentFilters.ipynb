{
 "cells": [
  {
   "cell_type": "markdown",
   "id": "d00088d4",
   "metadata": {},
   "source": [
    "## Semantic Kernel: Ramp-Up based on SK's Documentation"
   ]
  },
  {
   "cell_type": "markdown",
   "id": "c58d481c",
   "metadata": {},
   "source": [
    "To get the latest version of SK Python package, use:\n",
    "\n",
    "``` bash\n",
    "pip install --upgrade semantic-kernel\n",
    "```"
   ]
  },
  {
   "cell_type": "markdown",
   "id": "f6db6c3f",
   "metadata": {},
   "source": [
    "## 📒 Notebook 3: Filters"
   ]
  },
  {
   "cell_type": "markdown",
   "id": "645e4fe7",
   "metadata": {},
   "source": [
    "### 🪜 Step 1: Configure environment"
   ]
  },
  {
   "cell_type": "code",
   "execution_count": 1,
   "id": "44ba3684",
   "metadata": {},
   "outputs": [],
   "source": [
    "# Import required packages\n",
    "import asyncio\n",
    "import logging\n",
    "import os\n",
    "from typing import Any, Callable, Coroutine\n",
    "\n",
    "from semantic_kernel import Kernel\n",
    "from semantic_kernel.functions import kernel_function\n",
    "from semantic_kernel.connectors.ai.open_ai import AzureChatCompletion, OpenAIChatPromptExecutionSettings\n",
    "from semantic_kernel.contents import ChatHistory, ChatMessageContent, TextContent\n",
    "from semantic_kernel.contents.utils.author_role import AuthorRole\n",
    "from semantic_kernel.exceptions import OperationCancelledException\n",
    "from semantic_kernel.filters import FilterTypes, FunctionInvocationContext\n",
    "from semantic_kernel.functions import FunctionResult"
   ]
  },
  {
   "cell_type": "code",
   "execution_count": 2,
   "id": "85c91018",
   "metadata": {},
   "outputs": [],
   "source": [
    "# Set Azure OpenAI backend variables\n",
    "AOAI_DEPLOYMENT = os.getenv(\"AZURE_OPENAI_API_DEPLOY\")\n",
    "AOAI_ENDPOINT = os.getenv(\"AZURE_OPENAI_API_BASE\")\n",
    "AOAI_API_VERSION = os.getenv(\"AZURE_OPENAI_API_VERSION\")"
   ]
  },
  {
   "cell_type": "markdown",
   "id": "043f1baa",
   "metadata": {},
   "source": [
    "### 🪜 Step 2: Add AOAI Chat Completion service"
   ]
  },
  {
   "cell_type": "code",
   "execution_count": 3,
   "id": "67498941",
   "metadata": {},
   "outputs": [],
   "source": [
    "# Initialise kernel\n",
    "kernel = Kernel()"
   ]
  },
  {
   "cell_type": "code",
   "execution_count": 4,
   "id": "41725f07",
   "metadata": {},
   "outputs": [],
   "source": [
    "# Configure logging\n",
    "logging.basicConfig(level=logging.ERROR)\n",
    "logger = logging.getLogger(__name__)"
   ]
  },
  {
   "cell_type": "code",
   "execution_count": 5,
   "id": "0a59c9ee",
   "metadata": {},
   "outputs": [],
   "source": [
    "# Add Azure OpenAI chat completion\n",
    "chat_completion = AzureChatCompletion(\n",
    "    deployment_name = AOAI_DEPLOYMENT,\n",
    "    endpoint = AOAI_ENDPOINT,\n",
    "    api_version = AOAI_API_VERSION,\n",
    "    service_id = \"azure_openai_chat\",\n",
    ")\n",
    "\n",
    "kernel.add_service(chat_completion)"
   ]
  },
  {
   "cell_type": "markdown",
   "id": "ad19d331",
   "metadata": {},
   "source": [
    "### 🪜 Step 3: Define content blocking filter"
   ]
  },
  {
   "cell_type": "code",
   "execution_count": 6,
   "id": "9d199dc4",
   "metadata": {},
   "outputs": [],
   "source": [
    "# Define custom filter to block input with forbidden content\n",
    "async def content_blocking_filter(\n",
    "    context: FunctionInvocationContext,\n",
    "    next: Callable[[FunctionInvocationContext], Coroutine[Any, Any, None]],\n",
    ") -> None:\n",
    "    \"\"\"\n",
    "    A filter that checks for forbidden words in the user's input.\n",
    "    If a forbidden word is found, it blocks the function invocation\n",
    "    and sets a custom result.\n",
    "    \"\"\"\n",
    "\n",
    "    FORBIDDEN_WORD = \"badword\"\n",
    "    user_input = context.arguments.get(\"input\", \"\")\n",
    "    # chat_history is passed as an argument to the invoked function,\n",
    "    # so it will be available in context.arguments\n",
    "    chat_history_from_args = context.arguments.get(\"chat_history\")\n",
    "\n",
    "    if FORBIDDEN_WORD in user_input.lower():\n",
    "        print(f\"- Filter Action: Detected forbidden word '{FORBIDDEN_WORD}'. Blocking function invocation. ---\\n\")\n",
    "        blocked_message = ChatMessageContent(\n",
    "            role=AuthorRole.ASSISTANT,\n",
    "            items=[TextContent(text=\"I cannot process requests containing prohibited words. Please try again.\")],\n",
    "            metadata={\"filtered\": True}\n",
    "        )\n",
    "        context.result = FunctionResult(\n",
    "            function=context.function.metadata,\n",
    "            value=blocked_message\n",
    "        )\n",
    "        if chat_history_from_args:\n",
    "            chat_history_from_args.add_message(message=blocked_message)\n",
    "        return\n",
    "    \n",
    "    print(f\"- Filter Action: No forbidden word found. Proceeding with function invocation. ---\\n\")\n",
    "    await next(context)"
   ]
  },
  {
   "cell_type": "code",
   "execution_count": 7,
   "id": "3b9b7fcc",
   "metadata": {},
   "outputs": [],
   "source": [
    "# Add custom filter to the kernel for function invocation events\n",
    "kernel.add_filter(FilterTypes.FUNCTION_INVOCATION, content_blocking_filter)"
   ]
  },
  {
   "cell_type": "markdown",
   "id": "649a6a31",
   "metadata": {},
   "source": [
    "### 🪜 Step 4: Define a Simple Chat Plugin"
   ]
  },
  {
   "cell_type": "code",
   "execution_count": 8,
   "id": "d0e8de1c",
   "metadata": {},
   "outputs": [],
   "source": [
    "# Define basic chat plugin\n",
    "class ChatPlugin:\n",
    "    @kernel_function(name=\"Chat\", description=\"Responds to a chat message.\")\n",
    "    async def chat(self, chat_history: ChatHistory, input: str) -> ChatMessageContent:\n",
    "        \"\"\"\n",
    "        Simple chat function that uses the kernel's chat completion service.\n",
    "        \"\"\"\n",
    "        chat_history.add_user_message(input)\n",
    "\n",
    "        chat_service = kernel.get_service(\"azure_openai_chat\")\n",
    "\n",
    "        response = await chat_service.get_chat_message_contents(\n",
    "            chat_history = chat_history,\n",
    "            settings = OpenAIChatPromptExecutionSettings(\n",
    "                max_tokens = 150,\n",
    "                temperature = 0.7\n",
    "            )\n",
    "        )\n",
    "        \n",
    "        # Return the first response\n",
    "        if response and len(response) > 0:\n",
    "            return response[0]\n",
    "        else:\n",
    "            return ChatMessageContent(\n",
    "                role = AuthorRole.ASSISTANT,\n",
    "                items = [TextContent(text=\"I'm sorry, I couldn't generate a response.\")]\n",
    "            )"
   ]
  },
  {
   "cell_type": "code",
   "execution_count": 9,
   "id": "bd75e6fc",
   "metadata": {},
   "outputs": [
    {
     "data": {
      "text/plain": [
       "KernelPlugin(name='ChatPlugin', description=None, functions={'Chat': KernelFunctionFromMethod(metadata=KernelFunctionMetadata(name='Chat', plugin_name='ChatPlugin', description='Responds to a chat message.', parameters=[KernelParameterMetadata(name='chat_history', description=None, default_value=None, type_='ChatHistory', is_required=True, type_object=<class 'semantic_kernel.contents.chat_history.ChatHistory'>, schema_data={'type': 'object', 'properties': {'messages': {'type': 'array', 'items': {'type': 'object', 'properties': {'inner_content': {'type': ['object', 'null'], 'properties': {}}, 'ai_model_id': {'type': ['string', 'null']}, 'metadata': {'type': 'object', 'additionalProperties': {'type': 'object', 'properties': {}}}, 'content_type': {'type': 'object'}, 'tag': {'type': 'object'}, 'role': {'type': 'string', 'enum': ['system', 'user', 'assistant', 'tool', 'developer']}, 'name': {'type': ['string', 'null']}, 'items': {'type': 'array', 'items': {'anyOf': [{'type': 'object', 'properties': {'inner_content': {'type': ['object', 'null'], 'properties': {}}, 'ai_model_id': {'type': ['string', 'null']}, 'metadata': {'type': 'object', 'additionalProperties': {'type': 'object', 'properties': {}}}, 'content_type': {'type': 'object'}, 'tag': {'type': 'object'}, 'file_id': {'type': ['string', 'null']}, 'quote': {'type': ['string', 'null']}, 'start_index': {'type': ['integer', 'null']}, 'end_index': {'type': ['integer', 'null']}, 'url': {'type': ['string', 'null']}, 'title': {'type': ['string', 'null']}, 'citation_type': {'type': ['string', 'null'], 'enum': ['url_citation', 'file_path', 'file_citation', 'container_file_citation']}, 'container_id': {'type': ['string', 'null']}, 'filename': {'type': ['string', 'null']}}, 'required': ['metadata', 'content_type', 'tag']}, {'type': 'object', 'properties': {'inner_content': {'type': ['object', 'null'], 'properties': {}}, 'ai_model_id': {'type': ['string', 'null']}, 'metadata': {'type': 'object', 'additionalProperties': {'type': 'object', 'properties': {}}}, 'content_type': {'type': 'object'}, 'uri': {'anyOf': [{'type': 'object', 'properties': {}}, {'type': 'string'}, {'type': 'object'}]}, 'default_mime_type': {'type': 'object'}, 'tag': {'type': 'object'}, '_data_uri': {'type': ['object', 'null'], 'properties': {'data_array': {'type': ['object', 'null']}, 'data_bytes': {'type': ['object', 'null']}, 'mime_type': {'type': ['string', 'null']}, 'parameters': {'type': 'object', 'properties': {}}, 'data_format': {'type': ['string', 'null']}}, 'required': ['parameters']}}, 'required': ['metadata', 'content_type', 'default_mime_type', 'tag']}, {'type': 'object', 'properties': {'inner_content': {'type': ['object', 'null'], 'properties': {}}, 'ai_model_id': {'type': ['string', 'null']}, 'metadata': {'type': 'object', 'additionalProperties': {'type': 'object', 'properties': {}}}, 'content_type': {'type': 'object'}, 'uri': {'anyOf': [{'type': 'object', 'properties': {}}, {'type': 'string'}, {'type': 'object'}]}, 'default_mime_type': {'type': 'object'}, 'tag': {'type': 'object'}, '_data_uri': {'type': ['object', 'null'], 'properties': {'data_array': {'type': ['object', 'null']}, 'data_bytes': {'type': ['object', 'null']}, 'mime_type': {'type': ['string', 'null']}, 'parameters': {'type': 'object', 'properties': {}}, 'data_format': {'type': ['string', 'null']}}, 'required': ['parameters']}}, 'required': ['metadata', 'content_type', 'default_mime_type', 'tag']}, {'type': 'object', 'properties': {'inner_content': {'type': ['object', 'null'], 'properties': {}}, 'ai_model_id': {'type': ['string', 'null']}, 'metadata': {'type': 'object', 'additionalProperties': {'type': 'object', 'properties': {}}}, 'content_type': {'type': 'object'}, 'tag': {'type': 'object'}, 'text': {'type': 'string'}, 'encoding': {'type': ['string', 'null']}}, 'required': ['metadata', 'content_type', 'tag', 'text']}, {'type': 'object', 'properties': {'inner_content': {'type': ['object', 'null'], 'properties': {}}, 'ai_model_id': {'type': ['string', 'null']}, 'metadata': {'type': 'object', 'additionalProperties': {'type': 'object', 'properties': {}}}, 'content_type': {'type': 'object'}, 'tag': {'type': 'object'}, 'id': {'type': ['string', 'null']}, 'call_id': {'type': ['string', 'null']}, 'result': {'type': 'object', 'properties': {}}, 'name': {'type': ['string', 'null']}, 'function_name': {'type': 'string'}, 'plugin_name': {'type': ['string', 'null']}, 'encoding': {'type': ['string', 'null']}}, 'required': ['metadata', 'content_type', 'tag', 'result', 'function_name']}, {'type': 'object', 'properties': {'inner_content': {'type': ['object', 'null'], 'properties': {}}, 'ai_model_id': {'type': ['string', 'null']}, 'metadata': {'type': 'object', 'additionalProperties': {'type': 'object', 'properties': {}}}, 'content_type': {'type': 'object'}, 'tag': {'type': 'object'}, 'id': {'type': ['string', 'null']}, 'call_id': {'type': ['string', 'null']}, 'index': {'type': ['integer', 'null']}, 'name': {'type': ['string', 'null']}, 'function_name': {'type': 'string'}, 'plugin_name': {'type': ['string', 'null']}, 'arguments': {'anyOf': [{'type': 'string'}, {'type': 'object', 'properties': {}}, {'type': 'object'}]}}, 'required': ['metadata', 'content_type', 'tag', 'function_name']}, {'type': 'object', 'properties': {'inner_content': {'type': ['object', 'null'], 'properties': {}}, 'ai_model_id': {'type': ['string', 'null']}, 'metadata': {'type': 'object', 'additionalProperties': {'type': 'object', 'properties': {}}}, 'content_type': {'type': 'object'}, 'tag': {'type': 'object'}, 'file_id': {'type': ['string', 'null']}, 'tools': {'type': 'array', 'items': {'type': 'object', 'properties': {}}}, 'data_source': {'type': ['object', 'null'], 'properties': {}}}, 'required': ['metadata', 'content_type', 'tag', 'tools']}, {'type': 'object', 'properties': {'inner_content': {'type': ['object', 'null'], 'properties': {}}, 'ai_model_id': {'type': ['string', 'null']}, 'metadata': {'type': 'object', 'additionalProperties': {'type': 'object', 'properties': {}}}, 'content_type': {'type': 'object'}, 'tag': {'type': 'object'}, 'text': {'type': ['string', 'null']}}, 'required': ['metadata', 'content_type', 'tag']}, {'type': 'object', 'properties': {'inner_content': {'type': ['object', 'null'], 'properties': {}}, 'ai_model_id': {'type': ['string', 'null']}, 'metadata': {'type': 'object', 'additionalProperties': {'type': 'object', 'properties': {}}}, 'content_type': {'type': 'object'}, 'tag': {'type': 'object'}, 'file_id': {'type': ['string', 'null']}, 'quote': {'type': ['string', 'null']}, 'start_index': {'type': ['integer', 'null']}, 'end_index': {'type': ['integer', 'null']}, 'url': {'type': ['string', 'null']}, 'title': {'type': ['string', 'null']}, 'citation_type': {'type': ['string', 'null'], 'enum': ['url_citation', 'file_path', 'file_citation', 'container_file_citation']}}, 'required': ['metadata', 'content_type', 'tag']}, {'type': 'object', 'properties': {'inner_content': {'type': ['object', 'null'], 'properties': {}}, 'ai_model_id': {'type': ['string', 'null']}, 'metadata': {'type': 'object', 'additionalProperties': {'type': 'object', 'properties': {}}}, 'content_type': {'type': 'object'}, 'tag': {'type': 'object'}, 'file_id': {'type': ['string', 'null']}, 'tools': {'type': 'array', 'items': {'type': 'object', 'properties': {}}}, 'data_source': {'type': ['object', 'null'], 'properties': {}}}, 'required': ['metadata', 'content_type', 'tag', 'tools']}, {'type': 'object', 'properties': {'inner_content': {'type': ['object', 'null'], 'properties': {}}, 'ai_model_id': {'type': ['string', 'null']}, 'metadata': {'type': 'object', 'additionalProperties': {'type': 'object', 'properties': {}}}, 'content_type': {'type': 'object'}, 'uri': {'anyOf': [{'type': 'object', 'properties': {}}, {'type': 'string'}, {'type': 'object'}]}, 'default_mime_type': {'type': 'object'}, 'tag': {'type': 'object'}, '_data_uri': {'type': ['object', 'null'], 'properties': {'data_array': {'type': ['object', 'null']}, 'data_bytes': {'type': ['object', 'null']}, 'mime_type': {'type': ['string', 'null']}, 'parameters': {'type': 'object', 'properties': {}}, 'data_format': {'type': ['string', 'null']}}, 'required': ['parameters']}}, 'required': ['metadata', 'content_type', 'default_mime_type', 'tag']}]}}, 'encoding': {'type': ['string', 'null']}, 'finish_reason': {'type': ['string', 'null'], 'enum': ['stop', 'length', 'content_filter', 'tool_calls', 'function_call']}, 'status': {'type': ['string', 'null'], 'enum': ['completed', 'failed', 'in_progress', 'incomplete']}}, 'required': ['metadata', 'content_type', 'tag', 'role', 'items']}}, 'system_message': {'type': ['string', 'null']}}, 'required': ['messages']}, include_in_function_choices=True), KernelParameterMetadata(name='input', description=None, default_value=None, type_='str', is_required=True, type_object=<class 'str'>, schema_data={'type': 'string'}, include_in_function_choices=True)], is_prompt=False, is_asynchronous=True, return_parameter=KernelParameterMetadata(name='return', description='', default_value=None, type_='ChatMessageContent', is_required=True, type_object=<class 'semantic_kernel.contents.chat_message_content.ChatMessageContent'>, schema_data={'type': 'object', 'properties': {'inner_content': {'type': ['object', 'null'], 'properties': {}}, 'ai_model_id': {'type': ['string', 'null']}, 'metadata': {'type': 'object', 'additionalProperties': {'type': 'object', 'properties': {}}}, 'content_type': {'type': 'object'}, 'tag': {'type': 'object'}, 'role': {'type': 'string', 'enum': ['system', 'user', 'assistant', 'tool', 'developer']}, 'name': {'type': ['string', 'null']}, 'items': {'type': 'array', 'items': {'anyOf': [{'type': 'object', 'properties': {'inner_content': {'type': ['object', 'null'], 'properties': {}}, 'ai_model_id': {'type': ['string', 'null']}, 'metadata': {'type': 'object', 'additionalProperties': {'type': 'object', 'properties': {}}}, 'content_type': {'type': 'object'}, 'tag': {'type': 'object'}, 'file_id': {'type': ['string', 'null']}, 'quote': {'type': ['string', 'null']}, 'start_index': {'type': ['integer', 'null']}, 'end_index': {'type': ['integer', 'null']}, 'url': {'type': ['string', 'null']}, 'title': {'type': ['string', 'null']}, 'citation_type': {'type': ['string', 'null'], 'enum': ['url_citation', 'file_path', 'file_citation', 'container_file_citation']}, 'container_id': {'type': ['string', 'null']}, 'filename': {'type': ['string', 'null']}}, 'required': ['metadata', 'content_type', 'tag']}, {'type': 'object', 'properties': {'inner_content': {'type': ['object', 'null'], 'properties': {}}, 'ai_model_id': {'type': ['string', 'null']}, 'metadata': {'type': 'object', 'additionalProperties': {'type': 'object', 'properties': {}}}, 'content_type': {'type': 'object'}, 'uri': {'anyOf': [{'type': 'object', 'properties': {}}, {'type': 'string'}, {'type': 'object'}]}, 'default_mime_type': {'type': 'object'}, 'tag': {'type': 'object'}, '_data_uri': {'type': ['object', 'null'], 'properties': {'data_array': {'type': ['object', 'null']}, 'data_bytes': {'type': ['object', 'null']}, 'mime_type': {'type': ['string', 'null']}, 'parameters': {'type': 'object', 'properties': {}}, 'data_format': {'type': ['string', 'null']}}, 'required': ['parameters']}}, 'required': ['metadata', 'content_type', 'default_mime_type', 'tag']}, {'type': 'object', 'properties': {'inner_content': {'type': ['object', 'null'], 'properties': {}}, 'ai_model_id': {'type': ['string', 'null']}, 'metadata': {'type': 'object', 'additionalProperties': {'type': 'object', 'properties': {}}}, 'content_type': {'type': 'object'}, 'uri': {'anyOf': [{'type': 'object', 'properties': {}}, {'type': 'string'}, {'type': 'object'}]}, 'default_mime_type': {'type': 'object'}, 'tag': {'type': 'object'}, '_data_uri': {'type': ['object', 'null'], 'properties': {'data_array': {'type': ['object', 'null']}, 'data_bytes': {'type': ['object', 'null']}, 'mime_type': {'type': ['string', 'null']}, 'parameters': {'type': 'object', 'properties': {}}, 'data_format': {'type': ['string', 'null']}}, 'required': ['parameters']}}, 'required': ['metadata', 'content_type', 'default_mime_type', 'tag']}, {'type': 'object', 'properties': {'inner_content': {'type': ['object', 'null'], 'properties': {}}, 'ai_model_id': {'type': ['string', 'null']}, 'metadata': {'type': 'object', 'additionalProperties': {'type': 'object', 'properties': {}}}, 'content_type': {'type': 'object'}, 'tag': {'type': 'object'}, 'text': {'type': 'string'}, 'encoding': {'type': ['string', 'null']}}, 'required': ['metadata', 'content_type', 'tag', 'text']}, {'type': 'object', 'properties': {'inner_content': {'type': ['object', 'null'], 'properties': {}}, 'ai_model_id': {'type': ['string', 'null']}, 'metadata': {'type': 'object', 'additionalProperties': {'type': 'object', 'properties': {}}}, 'content_type': {'type': 'object'}, 'tag': {'type': 'object'}, 'id': {'type': ['string', 'null']}, 'call_id': {'type': ['string', 'null']}, 'result': {'type': 'object', 'properties': {}}, 'name': {'type': ['string', 'null']}, 'function_name': {'type': 'string'}, 'plugin_name': {'type': ['string', 'null']}, 'encoding': {'type': ['string', 'null']}}, 'required': ['metadata', 'content_type', 'tag', 'result', 'function_name']}, {'type': 'object', 'properties': {'inner_content': {'type': ['object', 'null'], 'properties': {}}, 'ai_model_id': {'type': ['string', 'null']}, 'metadata': {'type': 'object', 'additionalProperties': {'type': 'object', 'properties': {}}}, 'content_type': {'type': 'object'}, 'tag': {'type': 'object'}, 'id': {'type': ['string', 'null']}, 'call_id': {'type': ['string', 'null']}, 'index': {'type': ['integer', 'null']}, 'name': {'type': ['string', 'null']}, 'function_name': {'type': 'string'}, 'plugin_name': {'type': ['string', 'null']}, 'arguments': {'anyOf': [{'type': 'string'}, {'type': 'object', 'properties': {}}, {'type': 'object'}]}}, 'required': ['metadata', 'content_type', 'tag', 'function_name']}, {'type': 'object', 'properties': {'inner_content': {'type': ['object', 'null'], 'properties': {}}, 'ai_model_id': {'type': ['string', 'null']}, 'metadata': {'type': 'object', 'additionalProperties': {'type': 'object', 'properties': {}}}, 'content_type': {'type': 'object'}, 'tag': {'type': 'object'}, 'file_id': {'type': ['string', 'null']}, 'tools': {'type': 'array', 'items': {'type': 'object', 'properties': {}}}, 'data_source': {'type': ['object', 'null'], 'properties': {}}}, 'required': ['metadata', 'content_type', 'tag', 'tools']}, {'type': 'object', 'properties': {'inner_content': {'type': ['object', 'null'], 'properties': {}}, 'ai_model_id': {'type': ['string', 'null']}, 'metadata': {'type': 'object', 'additionalProperties': {'type': 'object', 'properties': {}}}, 'content_type': {'type': 'object'}, 'tag': {'type': 'object'}, 'text': {'type': ['string', 'null']}}, 'required': ['metadata', 'content_type', 'tag']}, {'type': 'object', 'properties': {'inner_content': {'type': ['object', 'null'], 'properties': {}}, 'ai_model_id': {'type': ['string', 'null']}, 'metadata': {'type': 'object', 'additionalProperties': {'type': 'object', 'properties': {}}}, 'content_type': {'type': 'object'}, 'tag': {'type': 'object'}, 'file_id': {'type': ['string', 'null']}, 'quote': {'type': ['string', 'null']}, 'start_index': {'type': ['integer', 'null']}, 'end_index': {'type': ['integer', 'null']}, 'url': {'type': ['string', 'null']}, 'title': {'type': ['string', 'null']}, 'citation_type': {'type': ['string', 'null'], 'enum': ['url_citation', 'file_path', 'file_citation', 'container_file_citation']}}, 'required': ['metadata', 'content_type', 'tag']}, {'type': 'object', 'properties': {'inner_content': {'type': ['object', 'null'], 'properties': {}}, 'ai_model_id': {'type': ['string', 'null']}, 'metadata': {'type': 'object', 'additionalProperties': {'type': 'object', 'properties': {}}}, 'content_type': {'type': 'object'}, 'tag': {'type': 'object'}, 'file_id': {'type': ['string', 'null']}, 'tools': {'type': 'array', 'items': {'type': 'object', 'properties': {}}}, 'data_source': {'type': ['object', 'null'], 'properties': {}}}, 'required': ['metadata', 'content_type', 'tag', 'tools']}, {'type': 'object', 'properties': {'inner_content': {'type': ['object', 'null'], 'properties': {}}, 'ai_model_id': {'type': ['string', 'null']}, 'metadata': {'type': 'object', 'additionalProperties': {'type': 'object', 'properties': {}}}, 'content_type': {'type': 'object'}, 'uri': {'anyOf': [{'type': 'object', 'properties': {}}, {'type': 'string'}, {'type': 'object'}]}, 'default_mime_type': {'type': 'object'}, 'tag': {'type': 'object'}, '_data_uri': {'type': ['object', 'null'], 'properties': {'data_array': {'type': ['object', 'null']}, 'data_bytes': {'type': ['object', 'null']}, 'mime_type': {'type': ['string', 'null']}, 'parameters': {'type': 'object', 'properties': {}}, 'data_format': {'type': ['string', 'null']}}, 'required': ['parameters']}}, 'required': ['metadata', 'content_type', 'default_mime_type', 'tag']}]}}, 'encoding': {'type': ['string', 'null']}, 'finish_reason': {'type': ['string', 'null'], 'enum': ['stop', 'length', 'content_filter', 'tool_calls', 'function_call']}, 'status': {'type': ['string', 'null'], 'enum': ['completed', 'failed', 'in_progress', 'incomplete']}}, 'required': ['metadata', 'content_type', 'tag', 'role', 'items']}, include_in_function_choices=True), additional_properties={}), invocation_duration_histogram=<opentelemetry.metrics._internal.instrument._ProxyHistogram object at 0x0000019A4CF43D50>, streaming_duration_histogram=<opentelemetry.metrics._internal.instrument._ProxyHistogram object at 0x0000019A4CF43E10>, method=<bound method ChatPlugin.chat of <__main__.ChatPlugin object at 0x0000019A4CF08A50>>, stream_method=None)})"
      ]
     },
     "execution_count": 9,
     "metadata": {},
     "output_type": "execute_result"
    }
   ],
   "source": [
    "# Add plugin to the kernel\n",
    "kernel.add_plugin(ChatPlugin(), plugin_name=\"ChatPlugin\")"
   ]
  },
  {
   "cell_type": "markdown",
   "id": "6e02718d",
   "metadata": {},
   "source": [
    "### 🪜 Step 5: Demo filter in action"
   ]
  },
  {
   "cell_type": "code",
   "execution_count": 10,
   "id": "6442132e",
   "metadata": {},
   "outputs": [],
   "source": [
    "# Define sample user inputs \n",
    "user_inputs = [\n",
    "    {\"user_input\": \"Tell me a story with a badword in it.\"},\n",
    "    {\"user_input\": \"Tell me a story about a brave knight.\"},\n",
    "    {\"user_input\": \"I like to talk about good things, not badword.\"},\n",
    "    {\"user_input\": \"What is the capital of France?\"},\n",
    "]"
   ]
  },
  {
   "cell_type": "code",
   "execution_count": 11,
   "id": "ec8d273a",
   "metadata": {},
   "outputs": [],
   "source": [
    "# Helper function to test scenarios\n",
    "async def test_scenarios():\n",
    "    chat_history = ChatHistory()\n",
    "    for user_input in user_inputs:\n",
    "        user_message = user_input[\"user_input\"]\n",
    "        print(f\"\\n-------------------------------\")\n",
    "        print(f\"- User Input: {user_message} ---\\n\")\n",
    "        \n",
    "        # Initialise chat history\n",
    "        history = ChatHistory()\n",
    "\n",
    "        # Invoke the chat function\n",
    "        try:\n",
    "            response = await kernel.invoke(\n",
    "                plugin_name = \"ChatPlugin\",\n",
    "                function_name = \"Chat\",\n",
    "                chat_history = history,\n",
    "                input = user_message,\n",
    "            )\n",
    "        \n",
    "            # Check if the response was from the filter or the LLM\n",
    "            if hasattr(response, 'value') and hasattr(response.value, 'metadata'):\n",
    "                if response.value.metadata and response.value.metadata.get(\"filtered\"):\n",
    "                    print(f\"- Assistant Response (from Filter): {response.value.content}\")\n",
    "                else:\n",
    "                    print(f\"- Assistant Response (from LLM): {response.value.content}\")\n",
    "            else:\n",
    "                print(f\"Assistant Response: {response}\")\n",
    "\n",
    "        except OperationCancelledException as e:\n",
    "            print(f\"Operation cancelled by filter: {e}\")\n",
    "        except Exception as e:\n",
    "            print(f\"An unexpected error occurred: {e}\")"
   ]
  },
  {
   "cell_type": "code",
   "execution_count": 12,
   "id": "21d6d8a3",
   "metadata": {},
   "outputs": [
    {
     "name": "stdout",
     "output_type": "stream",
     "text": [
      "\n",
      "-------------------------------\n",
      "- User Input: Tell me a story with a badword in it. ---\n",
      "\n",
      "- Filter Action: Detected forbidden word 'badword'. Blocking function invocation. ---\n",
      "\n",
      "- Assistant Response (from Filter): I cannot process requests containing prohibited words. Please try again.\n",
      "\n",
      "-------------------------------\n",
      "- User Input: Tell me a story about a brave knight. ---\n",
      "\n",
      "- Filter Action: No forbidden word found. Proceeding with function invocation. ---\n",
      "\n",
      "- Assistant Response (from LLM): Once upon a time, in a kingdom nestled between towering mountains and lush forests, there lived a brave knight named Sir Cedric. Known throughout the land for his courage and kindness, Sir Cedric was beloved by the people and respected by the king.\n",
      "\n",
      "One day, a terrible dragon descended upon the kingdom, breathing fire and casting fear into the hearts of all. The dragon demanded a treasure, or it would burn the villages to ash. The king, desperate to save his people, called upon Sir Cedric to face the beast.\n",
      "\n",
      "Without hesitation, Sir Cedric donned his shining armor, mounted his steadfast steed, and rode toward the dragon’s lair. Along the way, he encountered a wise old woman who handed him a magical amulet\n",
      "\n",
      "-------------------------------\n",
      "- User Input: I like to talk about good things, not badword. ---\n",
      "\n",
      "- Filter Action: Detected forbidden word 'badword'. Blocking function invocation. ---\n",
      "\n",
      "- Assistant Response (from Filter): I cannot process requests containing prohibited words. Please try again.\n",
      "\n",
      "-------------------------------\n",
      "- User Input: What is the capital of France? ---\n",
      "\n",
      "- Filter Action: No forbidden word found. Proceeding with function invocation. ---\n",
      "\n",
      "- Assistant Response (from LLM): The capital of France is Paris.\n"
     ]
    }
   ],
   "source": [
    "# Run all test scenarios\n",
    "await test_scenarios()"
   ]
  }
 ],
 "metadata": {
  "kernelspec": {
   "display_name": "Python 3",
   "language": "python",
   "name": "python3"
  },
  "language_info": {
   "codemirror_mode": {
    "name": "ipython",
    "version": 3
   },
   "file_extension": ".py",
   "mimetype": "text/x-python",
   "name": "python",
   "nbconvert_exporter": "python",
   "pygments_lexer": "ipython3",
   "version": "3.11.9"
  }
 },
 "nbformat": 4,
 "nbformat_minor": 5
}
