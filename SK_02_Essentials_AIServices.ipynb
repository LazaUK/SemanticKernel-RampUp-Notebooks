{
 "cells": [
  {
   "cell_type": "markdown",
   "id": "d00088d4",
   "metadata": {},
   "source": [
    "## Semantic Kernel: Ramp-Up based on SK's Documentation"
   ]
  },
  {
   "cell_type": "markdown",
   "id": "c58d481c",
   "metadata": {},
   "source": [
    "To get the latest version of SK Python package, use:\n",
    "\n",
    "``` bash\n",
    "pip install --upgrade semantic-kernel\n",
    "```"
   ]
  },
  {
   "cell_type": "markdown",
   "id": "f6db6c3f",
   "metadata": {},
   "source": [
    "## 📒 Notebook 2: AI Services"
   ]
  },
  {
   "cell_type": "markdown",
   "id": "645e4fe7",
   "metadata": {},
   "source": [
    "### 🪜 Step 1: Configure environment"
   ]
  },
  {
   "cell_type": "code",
   "execution_count": 1,
   "id": "44ba3684",
   "metadata": {},
   "outputs": [],
   "source": [
    "# Import required packages\n",
    "import os\n",
    "\n",
    "from semantic_kernel import Kernel\n",
    "from semantic_kernel.contents.chat_history import ChatHistory\n",
    "from semantic_kernel.connectors.ai.open_ai import AzureChatCompletion\n",
    "from semantic_kernel.connectors.ai.chat_completion_client_base import ChatCompletionClientBase\n",
    "from semantic_kernel.connectors.ai.open_ai import OpenAIChatPromptExecutionSettings"
   ]
  },
  {
   "cell_type": "code",
   "execution_count": 2,
   "id": "85c91018",
   "metadata": {},
   "outputs": [],
   "source": [
    "# Set Azure OpenAI backend variables\n",
    "AOAI_DEPLOYMENT = os.getenv(\"AZURE_OPENAI_API_DEPLOY\")\n",
    "AOAI_ENDPOINT = os.getenv(\"AZURE_OPENAI_API_BASE\")\n",
    "AOAI_API_VERSION = os.getenv(\"AZURE_OPENAI_API_VERSION\")"
   ]
  },
  {
   "cell_type": "markdown",
   "id": "043f1baa",
   "metadata": {},
   "source": [
    "### 🪜 Step 2: Add AI service"
   ]
  },
  {
   "cell_type": "code",
   "execution_count": 3,
   "id": "67498941",
   "metadata": {},
   "outputs": [],
   "source": [
    "# Initialise kernel\n",
    "kernel = Kernel()"
   ]
  },
  {
   "cell_type": "code",
   "execution_count": 4,
   "id": "0a59c9ee",
   "metadata": {},
   "outputs": [],
   "source": [
    "# Add Azure OpenAI chat completion\n",
    "chat_completion = AzureChatCompletion(\n",
    "    deployment_name = AOAI_DEPLOYMENT,\n",
    "    endpoint = AOAI_ENDPOINT,\n",
    "    api_version = AOAI_API_VERSION,\n",
    "    service_id = \"azure_openai_chat\",\n",
    ")\n",
    "\n",
    "kernel.add_service(chat_completion)"
   ]
  },
  {
   "cell_type": "markdown",
   "id": "ad19d331",
   "metadata": {},
   "source": [
    "### 🪜 Step 3: Retrieve AI service"
   ]
  },
  {
   "cell_type": "code",
   "execution_count": 5,
   "id": "9d199dc4",
   "metadata": {},
   "outputs": [
    {
     "data": {
      "text/plain": [
       "<OpenAIModelTypes.CHAT: 'chat'>"
      ]
     },
     "execution_count": 5,
     "metadata": {},
     "output_type": "execute_result"
    }
   ],
   "source": [
    "# Retrieve the chat completion service by type\n",
    "chat_completion_service = kernel.get_service(type=ChatCompletionClientBase)\n",
    "chat_completion_service.ai_model_type"
   ]
  },
  {
   "cell_type": "code",
   "execution_count": 6,
   "id": "59926abc",
   "metadata": {},
   "outputs": [
    {
     "data": {
      "text/plain": [
       "<OpenAIModelTypes.CHAT: 'chat'>"
      ]
     },
     "execution_count": 6,
     "metadata": {},
     "output_type": "execute_result"
    }
   ],
   "source": [
    "# Retrieve the chat completion service by id\n",
    "chat_completion_service = kernel.get_service(service_id=\"azure_openai_chat\")\n",
    "chat_completion_service.ai_model_type"
   ]
  },
  {
   "cell_type": "markdown",
   "id": "649a6a31",
   "metadata": {},
   "source": [
    "### 🪜 Step 4: Direct use of Chat Completion services"
   ]
  },
  {
   "cell_type": "markdown",
   "id": "ecbaec47",
   "metadata": {},
   "source": [
    "You can use the chat completion service directly, without adding to the kernel."
   ]
  },
  {
   "cell_type": "code",
   "execution_count": 7,
   "id": "eec40c79",
   "metadata": {},
   "outputs": [],
   "source": [
    "# Instantiatte execution settings\n",
    "execution_settings = OpenAIChatPromptExecutionSettings()"
   ]
  },
  {
   "cell_type": "markdown",
   "id": "7e7a7fae",
   "metadata": {},
   "source": [
    "### a) Non-streaming chat completion"
   ]
  },
  {
   "cell_type": "code",
   "execution_count": 8,
   "id": "1f8012a3",
   "metadata": {},
   "outputs": [],
   "source": [
    "# Reset chat history\n",
    "chat_history = ChatHistory()\n",
    "chat_history.add_user_message(\"Can you prepare a short (3 paragraphs) story about red pandas?\")"
   ]
  },
  {
   "cell_type": "code",
   "execution_count": 9,
   "id": "b3447642",
   "metadata": {},
   "outputs": [
    {
     "name": "stdout",
     "output_type": "stream",
     "text": [
      "Deep within the misty forests of the Eastern Himalayas, a small red panda named Tashi darted gracefully through the branches. With its fiery red fur blending seamlessly with the autumn leaves, Tashi was a master of camouflage. Every day, it foraged for bamboo shoots and sweet berries, using its sharp claws to cling effortlessly to the towering trees. Despite its shy nature, Tashi was curious about the world beyond the treetops and often paused to watch birds and butterflies flit by.\n",
      "\n",
      "One crisp morning, as sunlight filtered through the canopy, Tashi stumbled upon a tiny injured bird nestled among the leaves. The bird’s wing was bent awkwardly, and it chirped weakly for help. Tashi gently nudged the bird onto its back and decided to take it to a nearby clearing where the sunlight was warm and inviting. There, Tashi carefully tended to the bird, sharing some berries and keeping it safe from predators. Over the next few days, the red panda and the bird became unlikely friends, bound by kindness and trust.\n",
      "\n",
      "As the bird’s wing healed and it prepared to take flight once more, Tashi felt a pang of sadness but also joy. The forest, with all its secrets and surprises, had brought a new friend and a precious memory. Tashi watched as the bird soared high and disappeared into the horizon, a symbol of freedom and resilience. From that day forward, the little red panda ventured with a new sense of hope, knowing that even in the quietest corners of the forest, friendship could blossom in the most unexpected ways.\n"
     ]
    }
   ],
   "source": [
    "# Get non-streaming response\n",
    "response = await chat_completion_service.get_chat_message_content(\n",
    "    chat_history = chat_history,\n",
    "    settings = execution_settings,\n",
    ")\n",
    "\n",
    "print(response)"
   ]
  },
  {
   "cell_type": "markdown",
   "id": "4301beb0",
   "metadata": {},
   "source": [
    "### b) Streaming chat completion"
   ]
  },
  {
   "cell_type": "code",
   "execution_count": 10,
   "id": "93961e22",
   "metadata": {},
   "outputs": [],
   "source": [
    "# Reset chat history\n",
    "chat_history = ChatHistory()\n",
    "chat_history.add_user_message(\"Can you prepare a short (3 paragraphs) story about red pandas?\")"
   ]
  },
  {
   "cell_type": "code",
   "execution_count": 11,
   "id": "f62c319a",
   "metadata": {},
   "outputs": [
    {
     "name": "stdout",
     "output_type": "stream",
     "text": [
      "In the misty forests of the Eastern Himalayas, a small red panda named Tashi scurried through the dense bamboo thickets. With her reddish-brown fur blending perfectly with the autumn foliage, she moved gracefully from branch to branch, searching for tender bamboo shoots—their main source of food. Despite her diminutive size, Tashi was an expert climber, using her sharp claws and long, bushy tail for balance as she navigated the towering trees.\n",
      "\n",
      "One day, while exploring a new part of the forest, Tashi stumbled upon a baby bird that had fallen from its nest. Although red pandas are solitary creatures, her gentle nature compelled her to help. Carefully picking up the fragile bird with her paws, she climbed to a nearby branch and nudged the nestdoor open. After a few tries, she managed to place the chick safely back with its family, feeling a little warmer inside despite the crisp mountain air.\n",
      "\n",
      "As twilight descended, the forest came alive with the soft sounds of crickets and rustling leaves. Tashi curled into a cozy ball atop her favorite tree limb, the setting sun casting a golden glow over her fur. Though the world around her was wild and unpredictable, moments like these—full of kindness and quiet beauty—reminded her that even the smallest creatures played important roles in the vast tapestry of life."
     ]
    }
   ],
   "source": [
    "# Get streaming response\n",
    "response = chat_completion_service.get_streaming_chat_message_content(\n",
    "    chat_history = chat_history,\n",
    "    settings = execution_settings,\n",
    ")\n",
    "\n",
    "async for chunk in response:\n",
    "    print(chunk, end=\"\")"
   ]
  }
 ],
 "metadata": {
  "kernelspec": {
   "display_name": "Python 3",
   "language": "python",
   "name": "python3"
  },
  "language_info": {
   "codemirror_mode": {
    "name": "ipython",
    "version": 3
   },
   "file_extension": ".py",
   "mimetype": "text/x-python",
   "name": "python",
   "nbconvert_exporter": "python",
   "pygments_lexer": "ipython3",
   "version": "3.11.9"
  }
 },
 "nbformat": 4,
 "nbformat_minor": 5
}
