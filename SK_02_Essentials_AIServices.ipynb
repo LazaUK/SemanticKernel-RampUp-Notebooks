{
 "cells": [
  {
   "cell_type": "markdown",
   "id": "d00088d4",
   "metadata": {},
   "source": [
    "## Semantic Kernel: Ramp-Up based on SK's Documentation"
   ]
  },
  {
   "cell_type": "markdown",
   "id": "c58d481c",
   "metadata": {},
   "source": [
    "To get the latest version of SK Python package, use:\n",
    "\n",
    "``` bash\n",
    "pip install --upgrade semantic-kernel\n",
    "```"
   ]
  },
  {
   "cell_type": "markdown",
   "id": "f6db6c3f",
   "metadata": {},
   "source": [
    "## 📒 Notebook 2: AI Services"
   ]
  },
  {
   "cell_type": "markdown",
   "id": "645e4fe7",
   "metadata": {},
   "source": [
    "### 🪜 Step 1: Configure environment"
   ]
  },
  {
   "cell_type": "code",
   "execution_count": 1,
   "id": "44ba3684",
   "metadata": {},
   "outputs": [],
   "source": [
    "# Import required packages\n",
    "import os\n",
    "from IPython.display import Image, display\n",
    "\n",
    "from semantic_kernel import Kernel\n",
    "from semantic_kernel.contents.chat_history import ChatHistory\n",
    "from semantic_kernel.connectors.ai.open_ai import AzureChatCompletion\n",
    "from semantic_kernel.connectors.ai.chat_completion_client_base import ChatCompletionClientBase\n",
    "from semantic_kernel.contents import ChatMessageContent, TextContent, ImageContent, FunctionCallContent, FunctionResultContent\n",
    "from semantic_kernel.contents.utils.author_role import AuthorRole\n",
    "from semantic_kernel.connectors.ai.open_ai import OpenAIChatPromptExecutionSettings"
   ]
  },
  {
   "cell_type": "code",
   "execution_count": 2,
   "id": "85c91018",
   "metadata": {},
   "outputs": [],
   "source": [
    "# Set Azure OpenAI backend variables\n",
    "AOAI_DEPLOYMENT = os.getenv(\"AZURE_OPENAI_API_DEPLOY\")\n",
    "AOAI_ENDPOINT = os.getenv(\"AZURE_OPENAI_API_BASE\")\n",
    "AOAI_API_VERSION = os.getenv(\"AZURE_OPENAI_API_VERSION\")"
   ]
  },
  {
   "cell_type": "markdown",
   "id": "043f1baa",
   "metadata": {},
   "source": [
    "### 🪜 Step 2: Add AI service"
   ]
  },
  {
   "cell_type": "code",
   "execution_count": 3,
   "id": "67498941",
   "metadata": {},
   "outputs": [],
   "source": [
    "# Initialise kernel\n",
    "kernel = Kernel()"
   ]
  },
  {
   "cell_type": "code",
   "execution_count": 4,
   "id": "0a59c9ee",
   "metadata": {},
   "outputs": [],
   "source": [
    "# Add Azure OpenAI chat completion\n",
    "chat_completion = AzureChatCompletion(\n",
    "    deployment_name = AOAI_DEPLOYMENT,\n",
    "    endpoint = AOAI_ENDPOINT,\n",
    "    api_version = AOAI_API_VERSION,\n",
    "    service_id = \"azure_openai_chat\",\n",
    ")\n",
    "\n",
    "kernel.add_service(chat_completion)"
   ]
  },
  {
   "cell_type": "markdown",
   "id": "ad19d331",
   "metadata": {},
   "source": [
    "### 🪜 Step 3: Retrieve AI service"
   ]
  },
  {
   "cell_type": "code",
   "execution_count": 5,
   "id": "9d199dc4",
   "metadata": {},
   "outputs": [
    {
     "data": {
      "text/plain": [
       "<OpenAIModelTypes.CHAT: 'chat'>"
      ]
     },
     "execution_count": 5,
     "metadata": {},
     "output_type": "execute_result"
    }
   ],
   "source": [
    "# Retrieve the chat completion service by type\n",
    "chat_completion_service = kernel.get_service(type=ChatCompletionClientBase)\n",
    "chat_completion_service.ai_model_type"
   ]
  },
  {
   "cell_type": "code",
   "execution_count": 6,
   "id": "59926abc",
   "metadata": {},
   "outputs": [
    {
     "data": {
      "text/plain": [
       "<OpenAIModelTypes.CHAT: 'chat'>"
      ]
     },
     "execution_count": 6,
     "metadata": {},
     "output_type": "execute_result"
    }
   ],
   "source": [
    "# Retrieve the chat completion service by id\n",
    "chat_completion_service = kernel.get_service(service_id=\"azure_openai_chat\")\n",
    "chat_completion_service.ai_model_type"
   ]
  },
  {
   "cell_type": "markdown",
   "id": "649a6a31",
   "metadata": {},
   "source": [
    "### 🪜 Step 4: Direct use of Chat Completion services"
   ]
  },
  {
   "cell_type": "markdown",
   "id": "ecbaec47",
   "metadata": {},
   "source": [
    "You can use the chat completion service directly, without adding to the kernel."
   ]
  },
  {
   "cell_type": "code",
   "execution_count": 7,
   "id": "eec40c79",
   "metadata": {},
   "outputs": [],
   "source": [
    "# Instantiatte execution settings\n",
    "execution_settings = OpenAIChatPromptExecutionSettings()"
   ]
  },
  {
   "cell_type": "markdown",
   "id": "7e7a7fae",
   "metadata": {},
   "source": [
    "### a) Non-streaming chat completion"
   ]
  },
  {
   "cell_type": "code",
   "execution_count": 8,
   "id": "1f8012a3",
   "metadata": {},
   "outputs": [],
   "source": [
    "# Initialise new chat history\n",
    "chat_history = ChatHistory()\n",
    "chat_history.add_user_message(\"Can you prepare a short (3 paragraphs) story about red pandas?\")"
   ]
  },
  {
   "cell_type": "code",
   "execution_count": 9,
   "id": "b3447642",
   "metadata": {},
   "outputs": [
    {
     "name": "stdout",
     "output_type": "stream",
     "text": [
      "In the misty forests of the Eastern Himalayas, a red panda named Pema awoke to the soft rustling of bamboo leaves. With her thick, reddish-brown fur blending seamlessly into the autumn foliage, she nimbly climbed from one branch to another in search of her favorite treat—bamboo shoots. Though small and elusive, red pandas like Pema are expert climbers, using their sharp claws and long, bushy tails for balance as they navigate the treetops.\n",
      "\n",
      "Pema's days were often spent foraging, but she was also incredibly curious. One afternoon, while exploring a new part of the forest, she spotted a group of colorful birds fluttering near a sparkling stream. Intrigued, Pema carefully made her way down to the water’s edge, where she paused to drink and watch the lively scene. Despite her solitary nature, moments like these connected her to the vibrant ecosystem around her—where every creature, big or small, played a vital role.\n",
      "\n",
      "As twilight fell, Pema found a cozy nook nestled among the branches to rest. The fading light painted the forest in hues of orange and gold, her fur glowing softly in the dimness. Safe and snug, she curled up and drifted into sleep, ready to greet another day in her enchanting bamboo forest home—a hidden gem where the red panda reigns as a quiet, gentle guardian of the trees.\n"
     ]
    }
   ],
   "source": [
    "# Get non-streaming response\n",
    "response = await chat_completion_service.get_chat_message_content(\n",
    "    chat_history = chat_history,\n",
    "    settings = execution_settings,\n",
    ")\n",
    "\n",
    "print(response)"
   ]
  },
  {
   "cell_type": "markdown",
   "id": "4301beb0",
   "metadata": {},
   "source": [
    "### b) Streaming chat completion"
   ]
  },
  {
   "cell_type": "code",
   "execution_count": 10,
   "id": "93961e22",
   "metadata": {},
   "outputs": [],
   "source": [
    "# Initialise new chat history\n",
    "chat_history = ChatHistory()\n",
    "chat_history.add_user_message(\"Can you prepare a short (3 paragraphs) story about red pandas?\")"
   ]
  },
  {
   "cell_type": "code",
   "execution_count": 11,
   "id": "f62c319a",
   "metadata": {},
   "outputs": [
    {
     "name": "stdout",
     "output_type": "stream",
     "text": [
      "Deep within the misty forests of the Eastern Himalayas, a tiny red panda named Kiri scurried through the dense bamboo groves. With her bright reddish fur blending seamlessly with the autumn leaves, Kiri was a master of camouflage. Despite her small size, she was agile and curious, always exploring the treetops where she felt safest among the swaying branches. Each day, Kiri would nibble on fresh bamboo shoots, her favorite treat, while occasionally pausing to observe the colorful birds and buzzing insects that shared her home.\n",
      "\n",
      "One crisp morning, Kiri discovered a shimmering stream she had never seen before. Intrigued by the sparkling water, she delicately stepped closer, balancing on a narrow log. As she gazed at her reflection, a sudden rustling in the bushes startled her. Out hopped a young snow leopard cub, equally curious and wary. Instead of fleeing, Kiri stood her ground, and the two animals shared a silent moment of understanding, bound by their shared wilderness. Together, they watched as the sun cast golden light through the trees, turning the forest into a magical haven.\n",
      "\n",
      "As days passed, Kiri and the snow leopard cub met by the stream regularly, forming an unlikely friendship that transcended their differences. Their companionship brought a new sense of joy and confidence to Kiri’s life, reminding her that even in the sprawling forest, she was never truly alone. Through their adventures, Kiri learned that friendship could be found in the most unexpected places, and that the forest was a place of endless wonder and connection."
     ]
    }
   ],
   "source": [
    "# Get streaming response\n",
    "response = chat_completion_service.get_streaming_chat_message_content(\n",
    "    chat_history = chat_history,\n",
    "    settings = execution_settings,\n",
    ")\n",
    "\n",
    "async for chunk in response:\n",
    "    print(chunk, end=\"\")"
   ]
  },
  {
   "cell_type": "markdown",
   "id": "6a6b8b9e",
   "metadata": {},
   "source": [
    "### 🪜 Step 5: Use rich messages in chat history"
   ]
  },
  {
   "cell_type": "code",
   "execution_count": 12,
   "id": "96dd25dd",
   "metadata": {},
   "outputs": [
    {
     "name": "stdout",
     "output_type": "stream",
     "text": [
      "Anya Sharma's reference image for a hotel room:\n"
     ]
    },
    {
     "data": {
      "text/html": [
       "<img src=\"https://images.pexels.com/photos/164595/pexels-photo-164595.jpeg\" width=\"400\"/>"
      ],
      "text/plain": [
       "<IPython.core.display.Image object>"
      ]
     },
     "metadata": {},
     "output_type": "display_data"
    }
   ],
   "source": [
    "# Public image URL for demonstration\n",
    "hotel_room_image_url = \"https://images.pexels.com/photos/164595/pexels-photo-164595.jpeg\"\n",
    "\n",
    "print(f\"Anya Sharma's reference image for a hotel room:\")\n",
    "display(Image(url=hotel_room_image_url, width=400)) # Display the image directly in the notebook"
   ]
  },
  {
   "cell_type": "code",
   "execution_count": 13,
   "id": "e719954f",
   "metadata": {},
   "outputs": [],
   "source": [
    "# Initialise new chat history\n",
    "chat_history = ChatHistory()\n",
    "\n",
    "chat_history.add_message(\n",
    "    ChatMessageContent(\n",
    "        role = AuthorRole.SYSTEM,\n",
    "        content = \"You are a helpful hotel booking assistant. You can assist users in finding and booking rooms, answer questions about hotel amenities, and consider their preferences. Provide personalised suggestions where possible.\"\n",
    "    )\n",
    ")\n",
    "\n",
    "chat_history.add_message(\n",
    "    ChatMessageContent(\n",
    "        role = AuthorRole.USER,\n",
    "        name = \"Anya_Sharma\",\n",
    "        items = [\n",
    "            TextContent(text=\"I'm looking to book a room. Can you help me find something similar to what's in this picture?\"),\n",
    "            ImageContent(uri=hotel_room_image_url) # Referencing the image displayed previously\n",
    "        ]\n",
    "    )\n",
    ")"
   ]
  },
  {
   "cell_type": "code",
   "execution_count": 14,
   "id": "1a4fe8d4",
   "metadata": {},
   "outputs": [],
   "source": [
    "# Simulate function call and result (Tool Message) for user's preferences\n",
    "chat_history.add_message(\n",
    "    ChatMessageContent(\n",
    "        role=AuthorRole.ASSISTANT,\n",
    "        items=[\n",
    "            FunctionCallContent(\n",
    "                name = \"get_user_preferences_HotelBookingPlugin\",\n",
    "                id = \"user_prefs_anya_001\",\n",
    "                arguments = str({\"username\": \"Anya_Sharma\"})\n",
    "            )\n",
    "        ]\n",
    "    )\n",
    ")\n",
    "\n",
    "# Tool provides the result of the function call (simulated)\n",
    "chat_history.add_message(\n",
    "    ChatMessageContent(\n",
    "        role=AuthorRole.TOOL,\n",
    "        items=[\n",
    "            FunctionResultContent(\n",
    "                name = \"get_user_preferences_HotelBookingPlugin\",\n",
    "                id = \"user_prefs_anya_001\",\n",
    "                result = '{ \"loyalty_status\": \"Diamond\", \"preferred_amenities\": [\"king_bed\", \"balcony\", \"high_floor\", \"late_checkout\"] }'\n",
    "            )\n",
    "        ]\n",
    "    )\n",
    ")"
   ]
  },
  {
   "cell_type": "code",
   "execution_count": 15,
   "id": "cb076010",
   "metadata": {},
   "outputs": [
    {
     "name": "stdout",
     "output_type": "stream",
     "text": [
      "Assistant: I see you are looking for a room similar to the one in the picture, which features a king-sized bed, a modern and cozy design with neutral tones and artistic decor. Considering your preferences for a king bed, balcony, high floor, and late checkout, I can help you find a room that matches this style and your requirements.\n",
      "\n",
      "Could you please tell me the location and dates for your stay? This will help me find the best options for you.\n"
     ]
    }
   ],
   "source": [
    "# Get assistant's response\n",
    "assistant_response = await chat_completion_service.get_chat_message_content(\n",
    "    chat_history = chat_history,\n",
    "    settings = execution_settings,\n",
    ")\n",
    "\n",
    "chat_history.add_message(assistant_response)\n",
    "print(f\"Assistant: {assistant_response.content}\")"
   ]
  },
  {
   "cell_type": "code",
   "execution_count": 16,
   "id": "90ed09cd",
   "metadata": {},
   "outputs": [
    {
     "name": "stdout",
     "output_type": "stream",
     "text": [
      "\n",
      "--- Full Rich Chat History ---\n",
      "Role: AuthorRole.SYSTEM Name: None Content: You are a helpful hotel booking assistant. You can assist users in finding and booking rooms, answer questions about hotel amenities, and consider their preferences. Provide personalised suggestions where possible. Items: [TextContent(inner_content=None, ai_model_id=None, metadata={}, content_type='text', text='You are a helpful hotel booking assistant. You can assist users in finding and booking rooms, answer questions about hotel amenities, and consider their preferences. Provide personalised suggestions where possible.', encoding=None)]\n",
      "\n",
      "Role: AuthorRole.USER Name: Anya_Sharma Content: I'm looking to book a room. Can you help me find something similar to what's in this picture? Items: [TextContent(inner_content=None, ai_model_id=None, metadata={}, content_type='text', text=\"I'm looking to book a room. Can you help me find something similar to what's in this picture?\", encoding=None), ImageContent(inner_content=None, ai_model_id=None, metadata={}, content_type='image', uri=Url('https://images.pexels.com/photos/164595/pexels-photo-164595.jpeg'), data_uri='')]\n",
      "\n",
      "Role: AuthorRole.ASSISTANT Name: None Content:  Items: [FunctionCallContent(inner_content=None, ai_model_id=None, metadata={}, content_type='function_call', id='user_prefs_anya_001', call_id=None, index=None, name='get_user_preferences_HotelBookingPlugin', function_name='get_user_preferences_HotelBookingPlugin', plugin_name=None, arguments=\"{'username': 'Anya_Sharma'}\")]\n",
      "\n",
      "Role: AuthorRole.TOOL Name: None Content:  Items: [FunctionResultContent(inner_content=None, ai_model_id=None, metadata={}, content_type='function_result', id='user_prefs_anya_001', call_id=None, result='{ \"loyalty_status\": \"Diamond\", \"preferred_amenities\": [\"king_bed\", \"balcony\", \"high_floor\", \"late_checkout\"] }', name='get_user_preferences_HotelBookingPlugin', function_name='get_user_preferences_HotelBookingPlugin', plugin_name=None, encoding=None)]\n",
      "\n",
      "Role: AuthorRole.ASSISTANT Name: None Content: I see you are looking for a room similar to the one in the picture, which features a king-sized bed, a modern and cozy design with neutral tones and artistic decor. Considering your preferences for a king bed, balcony, high floor, and late checkout, I can help you find a room that matches this style and your requirements.\n",
      "\n",
      "Could you please tell me the location and dates for your stay? This will help me find the best options for you. Items: [TextContent(inner_content=None, ai_model_id=None, metadata={}, content_type='text', text='I see you are looking for a room similar to the one in the picture, which features a king-sized bed, a modern and cozy design with neutral tones and artistic decor. Considering your preferences for a king bed, balcony, high floor, and late checkout, I can help you find a room that matches this style and your requirements.\\n\\nCould you please tell me the location and dates for your stay? This will help me find the best options for you.', encoding=None)]\n",
      "\n"
     ]
    }
   ],
   "source": [
    "# Display the full chat history\n",
    "print(\"\\n--- Full Rich Chat History ---\")\n",
    "for message in chat_history:\n",
    "    print(\n",
    "        f\"Role: {message.role}\",\n",
    "        f\"Name: {message.name}\",\n",
    "        f\"Content: {message.content}\",\n",
    "        f\"Items: {message.items}\\n\"\n",
    "    )"
   ]
  }
 ],
 "metadata": {
  "kernelspec": {
   "display_name": "Python 3",
   "language": "python",
   "name": "python3"
  },
  "language_info": {
   "codemirror_mode": {
    "name": "ipython",
    "version": 3
   },
   "file_extension": ".py",
   "mimetype": "text/x-python",
   "name": "python",
   "nbconvert_exporter": "python",
   "pygments_lexer": "ipython3",
   "version": "3.11.9"
  }
 },
 "nbformat": 4,
 "nbformat_minor": 5
}
