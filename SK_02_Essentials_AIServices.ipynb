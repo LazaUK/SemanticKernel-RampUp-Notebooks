{
 "cells": [
  {
   "cell_type": "markdown",
   "id": "d00088d4",
   "metadata": {},
   "source": [
    "## Semantic Kernel: Ramp-Up based on SK's Documentation"
   ]
  },
  {
   "cell_type": "markdown",
   "id": "c58d481c",
   "metadata": {},
   "source": [
    "To get the latest version of SK Python package, use:\n",
    "\n",
    "``` bash\n",
    "pip install --upgrade semantic-kernel\n",
    "```"
   ]
  },
  {
   "cell_type": "markdown",
   "id": "f6db6c3f",
   "metadata": {},
   "source": [
    "## 📒 Notebook 2: AI Services"
   ]
  },
  {
   "cell_type": "markdown",
   "id": "645e4fe7",
   "metadata": {},
   "source": [
    "### 🪜 Step 1: Configure environment"
   ]
  },
  {
   "cell_type": "code",
   "execution_count": 1,
   "id": "44ba3684",
   "metadata": {},
   "outputs": [],
   "source": [
    "# Import required packages\n",
    "import os\n",
    "from IPython.display import Image, display\n",
    "\n",
    "from semantic_kernel import Kernel\n",
    "from semantic_kernel.contents.chat_history import ChatHistory\n",
    "from semantic_kernel.connectors.ai.open_ai import AzureChatCompletion\n",
    "from semantic_kernel.connectors.ai.chat_completion_client_base import ChatCompletionClientBase\n",
    "from semantic_kernel.contents import ChatMessageContent, TextContent, ImageContent, FunctionCallContent, FunctionResultContent\n",
    "from semantic_kernel.contents.utils.author_role import AuthorRole\n",
    "from semantic_kernel.connectors.ai.open_ai import OpenAIChatPromptExecutionSettings"
   ]
  },
  {
   "cell_type": "code",
   "execution_count": 2,
   "id": "85c91018",
   "metadata": {},
   "outputs": [],
   "source": [
    "# Set Azure OpenAI backend variables\n",
    "AOAI_DEPLOYMENT = os.getenv(\"AZURE_OPENAI_API_DEPLOY\")\n",
    "AOAI_ENDPOINT = os.getenv(\"AZURE_OPENAI_API_BASE\")\n",
    "AOAI_API_VERSION = os.getenv(\"AZURE_OPENAI_API_VERSION\")"
   ]
  },
  {
   "cell_type": "markdown",
   "id": "043f1baa",
   "metadata": {},
   "source": [
    "### 🪜 Step 2: Add AI service"
   ]
  },
  {
   "cell_type": "code",
   "execution_count": 3,
   "id": "67498941",
   "metadata": {},
   "outputs": [],
   "source": [
    "# Initialise kernel\n",
    "kernel = Kernel()"
   ]
  },
  {
   "cell_type": "code",
   "execution_count": 4,
   "id": "0a59c9ee",
   "metadata": {},
   "outputs": [],
   "source": [
    "# Add Azure OpenAI chat completion\n",
    "chat_completion = AzureChatCompletion(\n",
    "    deployment_name = AOAI_DEPLOYMENT,\n",
    "    endpoint = AOAI_ENDPOINT,\n",
    "    api_version = AOAI_API_VERSION,\n",
    "    service_id = \"azure_openai_chat\",\n",
    ")\n",
    "\n",
    "kernel.add_service(chat_completion)"
   ]
  },
  {
   "cell_type": "markdown",
   "id": "ad19d331",
   "metadata": {},
   "source": [
    "### 🪜 Step 3: Retrieve AI service"
   ]
  },
  {
   "cell_type": "code",
   "execution_count": 5,
   "id": "9d199dc4",
   "metadata": {},
   "outputs": [
    {
     "data": {
      "text/plain": [
       "<OpenAIModelTypes.CHAT: 'chat'>"
      ]
     },
     "execution_count": 5,
     "metadata": {},
     "output_type": "execute_result"
    }
   ],
   "source": [
    "# Retrieve the chat completion service by type\n",
    "chat_completion_service = kernel.get_service(type=ChatCompletionClientBase)\n",
    "chat_completion_service.ai_model_type"
   ]
  },
  {
   "cell_type": "code",
   "execution_count": 6,
   "id": "59926abc",
   "metadata": {},
   "outputs": [
    {
     "data": {
      "text/plain": [
       "<OpenAIModelTypes.CHAT: 'chat'>"
      ]
     },
     "execution_count": 6,
     "metadata": {},
     "output_type": "execute_result"
    }
   ],
   "source": [
    "# Retrieve the chat completion service by id\n",
    "chat_completion_service = kernel.get_service(service_id=\"azure_openai_chat\")\n",
    "chat_completion_service.ai_model_type"
   ]
  },
  {
   "cell_type": "markdown",
   "id": "649a6a31",
   "metadata": {},
   "source": [
    "### 🪜 Step 4: Direct use of Chat Completion services"
   ]
  },
  {
   "cell_type": "markdown",
   "id": "ecbaec47",
   "metadata": {},
   "source": [
    "You can use the chat completion service directly, without adding to the kernel."
   ]
  },
  {
   "cell_type": "code",
   "execution_count": 7,
   "id": "eec40c79",
   "metadata": {},
   "outputs": [],
   "source": [
    "# Instantiatte execution settings\n",
    "execution_settings = OpenAIChatPromptExecutionSettings()"
   ]
  },
  {
   "cell_type": "markdown",
   "id": "7e7a7fae",
   "metadata": {},
   "source": [
    "### a) Non-streaming chat completion"
   ]
  },
  {
   "cell_type": "code",
   "execution_count": 8,
   "id": "1f8012a3",
   "metadata": {},
   "outputs": [],
   "source": [
    "# Initialise new chat history\n",
    "chat_history = ChatHistory()\n",
    "chat_history.add_user_message(\"Can you prepare a short (3 paragraphs) story about red pandas?\")"
   ]
  },
  {
   "cell_type": "code",
   "execution_count": 9,
   "id": "b3447642",
   "metadata": {},
   "outputs": [
    {
     "name": "stdout",
     "output_type": "stream",
     "text": [
      "Deep within the misty forests of the Eastern Himalayas, a little red panda named Tashi lived among the towering bamboo stalks. Covered in a soft, reddish-brown fur and sporting a bushy ringed tail, Tashi spent her days climbing trees with remarkable agility, seeking out fresh bamboo shoots and juicy berries. Her keen eyes and nimble paws helped her navigate the canopy, where she found safety from predators and a peaceful place to rest.\n",
      "\n",
      "One crisp autumn morning, Tashi noticed a flicker of movement near the forest floor. Curious, she carefully descended from her perch and discovered a tiny injured bird tangled in a patch of thorny bushes. Despite her small size, Tashi gently used her sharp claws to free the bird, then gathered leaves and moss to create a cozy nest for it to recover. Day by day, she stayed close by, sharing fresh berries and keeping watch until the bird’s wing healed.\n",
      "\n",
      "As the seasons changed, Tashi and the grateful bird formed an unlikely friendship, exploring the forest together and learning from one another. Their bond was a reminder of the quiet kindness that thrives in nature, where even the smallest creatures can make a big difference. Amid the towering trees and whispering leaves, Tashi’s story became a gentle tale of courage, compassion, and the beauty of life shared in the wild.\n"
     ]
    }
   ],
   "source": [
    "# Get non-streaming response\n",
    "response = await chat_completion_service.get_chat_message_content(\n",
    "    chat_history = chat_history,\n",
    "    settings = execution_settings,\n",
    ")\n",
    "\n",
    "print(response)"
   ]
  },
  {
   "cell_type": "markdown",
   "id": "4301beb0",
   "metadata": {},
   "source": [
    "### b) Streaming chat completion"
   ]
  },
  {
   "cell_type": "code",
   "execution_count": 10,
   "id": "93961e22",
   "metadata": {},
   "outputs": [],
   "source": [
    "# Initialise new chat history\n",
    "chat_history = ChatHistory()\n",
    "chat_history.add_user_message(\"Can you prepare a short (3 paragraphs) story about red pandas?\")"
   ]
  },
  {
   "cell_type": "code",
   "execution_count": 11,
   "id": "f62c319a",
   "metadata": {},
   "outputs": [
    {
     "name": "stdout",
     "output_type": "stream",
     "text": [
      "In the misty forests of the Eastern Himalayas, a small creature with fiery red fur and a bushy ringed tail quietly went about its day. This was Rani, a curious red panda who loved to explore the towering bamboo groves and moss-covered trees that made up her home. Though she was about the size of a house cat, Rani was an excellent climber, deftly navigating the branches high above the forest floor to find tender bamboo shoots and juicy berries. Her gentle nature and shy demeanor kept her hidden from most predators, allowing her to live peacefully in the dappled sunlight filtering through the canopy.\n",
      "\n",
      "Each morning, Rani would nibble on a breakfast of bamboo leaves while watching the birds flit past. Sometimes, she’d encounter other red pandas like herself, and they would exchange soft chuffing calls, a language unique to their kind. These encounters were brief yet meaningful, helping to strengthen bonds and establish territories without conflict. Despite their solitary tendencies, red pandas like Rani valued these moments of connection, reminding her that she was never truly alone in the vast forest.\n",
      "\n",
      "As the seasons changed, Rani prepared for the chilly winter months by building a cozy nest high in the branches lined with leaves and moss. This shelter would keep her warm and safe from the cold winds that swept through the mountains. Though the future of red pandas remains uncertain due to habitat loss and climate change, Rani’s story is a testament to the resilience and quiet beauty of these enchanting animals. In their secret forest world, red pandas continue to thrive, offering a glimpse of nature’s delicate balance and the importance of preserving it for generations to come."
     ]
    }
   ],
   "source": [
    "# Get streaming response\n",
    "response = chat_completion_service.get_streaming_chat_message_content(\n",
    "    chat_history = chat_history,\n",
    "    settings = execution_settings,\n",
    ")\n",
    "\n",
    "async for chunk in response:\n",
    "    print(chunk, end=\"\")"
   ]
  },
  {
   "cell_type": "markdown",
   "id": "6a6b8b9e",
   "metadata": {},
   "source": [
    "### 🪜 Step 5: Use rich messages in chat history"
   ]
  },
  {
   "cell_type": "code",
   "execution_count": 12,
   "id": "96dd25dd",
   "metadata": {},
   "outputs": [
    {
     "name": "stdout",
     "output_type": "stream",
     "text": [
      "Anya Sharma's reference image for a hotel room:\n"
     ]
    },
    {
     "data": {
      "text/html": [
       "<img src=\"https://images.pexels.com/photos/164595/pexels-photo-164595.jpeg\" width=\"400\"/>"
      ],
      "text/plain": [
       "<IPython.core.display.Image object>"
      ]
     },
     "metadata": {},
     "output_type": "display_data"
    }
   ],
   "source": [
    "# Public image URL for demonstration\n",
    "hotel_room_image_url = \"https://images.pexels.com/photos/164595/pexels-photo-164595.jpeg\"\n",
    "\n",
    "print(f\"Anya Sharma's reference image for a hotel room:\")\n",
    "display(Image(url=hotel_room_image_url, width=400)) # Display the image directly in the notebook"
   ]
  },
  {
   "cell_type": "code",
   "execution_count": 13,
   "id": "e719954f",
   "metadata": {},
   "outputs": [],
   "source": [
    "# Initialise new chat history\n",
    "chat_history = ChatHistory()\n",
    "\n",
    "chat_history.add_message(\n",
    "    ChatMessageContent(\n",
    "        role = AuthorRole.SYSTEM,\n",
    "        content = \"You are a helpful hotel booking assistant. You can assist users in finding and booking rooms, answer questions about hotel amenities, and consider their preferences. Provide personalised suggestions where possible.\"\n",
    "    )\n",
    ")\n",
    "\n",
    "chat_history.add_message(\n",
    "    ChatMessageContent(\n",
    "        role = AuthorRole.USER,\n",
    "        name = \"Anya_Sharma\",\n",
    "        items = [\n",
    "            TextContent(text=\"I'm looking to book a room. Can you help me find something similar to what's in this picture?\"),\n",
    "            ImageContent(uri=hotel_room_image_url) # Referencing the image displayed previously\n",
    "        ]\n",
    "    )\n",
    ")"
   ]
  },
  {
   "cell_type": "code",
   "execution_count": 14,
   "id": "1a4fe8d4",
   "metadata": {},
   "outputs": [],
   "source": [
    "# Simulate function call and result (Tool Message) for user's preferences\n",
    "chat_history.add_message(\n",
    "    ChatMessageContent(\n",
    "        role=AuthorRole.ASSISTANT,\n",
    "        items=[\n",
    "            FunctionCallContent(\n",
    "                name = \"get_user_preferences_HotelBookingPlugin\",\n",
    "                id = \"user_prefs_anya_001\",\n",
    "                arguments = str({\"username\": \"Anya_Sharma\"})\n",
    "            )\n",
    "        ]\n",
    "    )\n",
    ")\n",
    "\n",
    "# Tool provides the result of the function call (simulated)\n",
    "chat_history.add_message(\n",
    "    ChatMessageContent(\n",
    "        role=AuthorRole.TOOL,\n",
    "        items=[\n",
    "            FunctionResultContent(\n",
    "                name = \"get_user_preferences_HotelBookingPlugin\",\n",
    "                id = \"user_prefs_anya_001\",\n",
    "                result = '{ \"loyalty_status\": \"Diamond\", \"preferred_amenities\": [\"king_bed\", \"balcony\", \"high_floor\", \"late_checkout\"] }'\n",
    "            )\n",
    "        ]\n",
    "    )\n",
    ")"
   ]
  },
  {
   "cell_type": "code",
   "execution_count": 15,
   "id": "cb076010",
   "metadata": {},
   "outputs": [
    {
     "name": "stdout",
     "output_type": "stream",
     "text": [
      "Assistant: I see you prefer a room with a king bed, balcony, high floor, and late checkout. The room in the picture you provided has a modern and cozy design with a dark, sleek headboard and some art above the bed. I'll help you find a room that matches this style and your preferences.\n",
      "\n",
      "Could you please let me know your preferred location and dates for the stay? This will help me find the best suitable options for you.\n"
     ]
    }
   ],
   "source": [
    "# Get assistant's response\n",
    "assistant_response = await chat_completion_service.get_chat_message_content(\n",
    "    chat_history = chat_history,\n",
    "    settings = execution_settings,\n",
    ")\n",
    "\n",
    "chat_history.add_message(assistant_response)\n",
    "print(f\"Assistant: {assistant_response.content}\")"
   ]
  },
  {
   "cell_type": "code",
   "execution_count": 16,
   "id": "90ed09cd",
   "metadata": {},
   "outputs": [
    {
     "name": "stdout",
     "output_type": "stream",
     "text": [
      "\n",
      "--- Full Rich Chat History ---\n",
      "Role: AuthorRole.SYSTEM Name: None Content: You are a helpful hotel booking assistant. You can assist users in finding and booking rooms, answer questions about hotel amenities, and consider their preferences. Provide personalised suggestions where possible. Items: [TextContent(inner_content=None, ai_model_id=None, metadata={}, content_type='text', text='You are a helpful hotel booking assistant. You can assist users in finding and booking rooms, answer questions about hotel amenities, and consider their preferences. Provide personalised suggestions where possible.', encoding=None)]\n",
      "\n",
      "Role: AuthorRole.USER Name: Anya_Sharma Content: I'm looking to book a room. Can you help me find something similar to what's in this picture? Items: [TextContent(inner_content=None, ai_model_id=None, metadata={}, content_type='text', text=\"I'm looking to book a room. Can you help me find something similar to what's in this picture?\", encoding=None), ImageContent(inner_content=None, ai_model_id=None, metadata={}, content_type='image', uri=Url('https://images.pexels.com/photos/164595/pexels-photo-164595.jpeg'), data_uri='')]\n",
      "\n",
      "Role: AuthorRole.ASSISTANT Name: None Content:  Items: [FunctionCallContent(inner_content=None, ai_model_id=None, metadata={}, content_type='function_call', id='user_prefs_anya_001', call_id=None, index=None, name='get_user_preferences_HotelBookingPlugin', function_name='get_user_preferences_HotelBookingPlugin', plugin_name=None, arguments=\"{'username': 'Anya_Sharma'}\")]\n",
      "\n",
      "Role: AuthorRole.TOOL Name: None Content:  Items: [FunctionResultContent(inner_content=None, ai_model_id=None, metadata={}, content_type='function_result', id='user_prefs_anya_001', call_id=None, result='{ \"loyalty_status\": \"Diamond\", \"preferred_amenities\": [\"king_bed\", \"balcony\", \"high_floor\", \"late_checkout\"] }', name='get_user_preferences_HotelBookingPlugin', function_name='get_user_preferences_HotelBookingPlugin', plugin_name=None, encoding=None)]\n",
      "\n",
      "Role: AuthorRole.ASSISTANT Name: None Content: I see you prefer a room with a king bed, balcony, high floor, and late checkout. The room in the picture you provided has a modern and cozy design with a dark, sleek headboard and some art above the bed. I'll help you find a room that matches this style and your preferences.\n",
      "\n",
      "Could you please let me know your preferred location and dates for the stay? This will help me find the best suitable options for you. Items: [TextContent(inner_content=None, ai_model_id=None, metadata={}, content_type='text', text=\"I see you prefer a room with a king bed, balcony, high floor, and late checkout. The room in the picture you provided has a modern and cozy design with a dark, sleek headboard and some art above the bed. I'll help you find a room that matches this style and your preferences.\\n\\nCould you please let me know your preferred location and dates for the stay? This will help me find the best suitable options for you.\", encoding=None)]\n",
      "\n"
     ]
    }
   ],
   "source": [
    "# Display the full chat history\n",
    "print(\"\\n--- Full Rich Chat History ---\")\n",
    "for message in chat_history:\n",
    "    print(\n",
    "        f\"Role: {message.role}\",\n",
    "        f\"Name: {message.name}\",\n",
    "        f\"Content: {message.content}\",\n",
    "        f\"Items: {message.items}\\n\"\n",
    "    )"
   ]
  }
 ],
 "metadata": {
  "kernelspec": {
   "display_name": "Python 3",
   "language": "python",
   "name": "python3"
  },
  "language_info": {
   "codemirror_mode": {
    "name": "ipython",
    "version": 3
   },
   "file_extension": ".py",
   "mimetype": "text/x-python",
   "name": "python",
   "nbconvert_exporter": "python",
   "pygments_lexer": "ipython3",
   "version": "3.11.9"
  }
 },
 "nbformat": 4,
 "nbformat_minor": 5
}
